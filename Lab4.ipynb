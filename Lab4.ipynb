{
  "nbformat": 4,
  "nbformat_minor": 0,
  "metadata": {
    "colab": {
      "provenance": [],
      "authorship_tag": "ABX9TyOPXWOzLJkoZj8fcE8Q73fo",
      "include_colab_link": true
    },
    "kernelspec": {
      "name": "python3",
      "display_name": "Python 3"
    },
    "language_info": {
      "name": "python"
    }
  },
  "cells": [
    {
      "cell_type": "markdown",
      "metadata": {
        "id": "view-in-github",
        "colab_type": "text"
      },
      "source": [
        "<a href=\"https://colab.research.google.com/github/SolarMeIster/Math_linguistics/blob/main/Lab4.ipynb\" target=\"_parent\"><img src=\"https://colab.research.google.com/assets/colab-badge.svg\" alt=\"Open In Colab\"/></a>"
      ]
    },
    {
      "cell_type": "markdown",
      "source": [
        "## TensorFlow"
      ],
      "metadata": {
        "id": "GFls-9YfsEXX"
      }
    },
    {
      "cell_type": "code",
      "source": [
        "string = \"Кто сражается с чудовищами, тому следует остерегаться, чтобы самому при этом не стать чудовищем. И если ты долго смотришь в бездну, то бездна тоже смотрит в тебя.\""
      ],
      "metadata": {
        "id": "sVru0H_eup2t"
      },
      "execution_count": 3,
      "outputs": []
    },
    {
      "cell_type": "code",
      "source": [
        "import tensorflow as tf\n",
        "import tensorflow_text as tf_text\n",
        "text = tf.constant([string])\n",
        "unicode_tokenizer = tf_text.UnicodeScriptTokenizer()\n",
        "unicode_tokens = unicode_tokenizer.tokenize(text)\n",
        "unicode_tokens = unicode_tokens.to_list()\n",
        "tokens = [token.decode('utf-8') for token in unicode_tokens[0]]\n",
        "print(tokens)"
      ],
      "metadata": {
        "colab": {
          "base_uri": "https://localhost:8080/"
        },
        "id": "plPLrJqKrw_o",
        "outputId": "c91e3f82-83e1-4f94-dd69-9e99ea3d9130"
      },
      "execution_count": 4,
      "outputs": [
        {
          "output_type": "stream",
          "name": "stdout",
          "text": [
            "['Кто', 'сражается', 'с', 'чудовищами', ',', 'тому', 'следует', 'остерегаться', ',', 'чтобы', 'самому', 'при', 'этом', 'не', 'стать', 'чудовищем', '.', 'И', 'если', 'ты', 'долго', 'смотришь', 'в', 'бездну', ',', 'то', 'бездна', 'тоже', 'смотрит', 'в', 'тебя', '.']\n"
          ]
        }
      ]
    },
    {
      "cell_type": "markdown",
      "source": [
        "# NLTK"
      ],
      "metadata": {
        "id": "oHalUjseuZM_"
      }
    },
    {
      "cell_type": "code",
      "source": [
        "import nltk\n",
        "from nltk.tokenize import word_tokenize\n",
        "\n",
        "nltk.download('punkt')\n",
        "nltk.download('punkt_tab')\n",
        "nltk.download('stopwords')"
      ],
      "metadata": {
        "id": "Uxc9D1yewWlx",
        "outputId": "286bd9d5-ce26-4b0a-9155-368fbe4d8357",
        "colab": {
          "base_uri": "https://localhost:8080/"
        }
      },
      "execution_count": 6,
      "outputs": [
        {
          "output_type": "stream",
          "name": "stderr",
          "text": [
            "[nltk_data] Downloading package punkt to /root/nltk_data...\n",
            "[nltk_data]   Unzipping tokenizers/punkt.zip.\n",
            "[nltk_data] Downloading package punkt_tab to /root/nltk_data...\n",
            "[nltk_data]   Unzipping tokenizers/punkt_tab.zip.\n",
            "[nltk_data] Downloading package stopwords to /root/nltk_data...\n",
            "[nltk_data]   Unzipping corpora/stopwords.zip.\n"
          ]
        },
        {
          "output_type": "execute_result",
          "data": {
            "text/plain": [
              "True"
            ]
          },
          "metadata": {},
          "execution_count": 6
        }
      ]
    },
    {
      "cell_type": "code",
      "source": [
        "words = word_tokenize(string, language='russian')\n",
        "print(words)"
      ],
      "metadata": {
        "id": "brPXrt7Ludrk",
        "outputId": "59adc3eb-4274-4f86-ad7d-66203f79b1e0",
        "colab": {
          "base_uri": "https://localhost:8080/"
        }
      },
      "execution_count": 8,
      "outputs": [
        {
          "output_type": "stream",
          "name": "stdout",
          "text": [
            "['Кто', 'сражается', 'с', 'чудовищами', ',', 'тому', 'следует', 'остерегаться', ',', 'чтобы', 'самому', 'при', 'этом', 'не', 'стать', 'чудовищем', '.', 'И', 'если', 'ты', 'долго', 'смотришь', 'в', 'бездну', ',', 'то', 'бездна', 'тоже', 'смотрит', 'в', 'тебя', '.']\n"
          ]
        }
      ]
    },
    {
      "cell_type": "code",
      "source": [],
      "metadata": {
        "id": "yC3hGxjtuw9C"
      },
      "execution_count": null,
      "outputs": []
    }
  ]
}