{
  "nbformat": 4,
  "nbformat_minor": 0,
  "metadata": {
    "colab": {
      "provenance": [],
      "authorship_tag": "ABX9TyNcgEZZT2iH1lEMukU3Yqs8",
      "include_colab_link": true
    },
    "kernelspec": {
      "name": "python3",
      "display_name": "Python 3"
    },
    "language_info": {
      "name": "python"
    }
  },
  "cells": [
    {
      "cell_type": "markdown",
      "metadata": {
        "id": "view-in-github",
        "colab_type": "text"
      },
      "source": [
        "<a href=\"https://colab.research.google.com/github/SolarMeIster/Math_linguistics/blob/main/Lab4.ipynb\" target=\"_parent\"><img src=\"https://colab.research.google.com/assets/colab-badge.svg\" alt=\"Open In Colab\"/></a>"
      ]
    },
    {
      "cell_type": "markdown",
      "source": [
        "## TensorFlow"
      ],
      "metadata": {
        "id": "GFls-9YfsEXX"
      }
    },
    {
      "cell_type": "code",
      "source": [
        "import tensorflow as tf\n",
        "import tensorflow_text as tf_text\n",
        "text = tf.constant([\"Кто сражается с чудовищами, тому следует остерегаться, чтобы самому при этом не стать чудовищем. И если ты долго смотришь в бездну, то бездна тоже смотрит в тебя.\"])\n",
        "unicode_tokenizer = tf_text.UnicodeScriptTokenizer()\n",
        "unicode_tokens = unicode_tokenizer.tokenize(text)\n",
        "unicode_tokens = unicode_tokens.to_list()\n",
        "tokens = [token.decode('utf-8') for token in unicode_tokens[0]]\n",
        "print(tokens)"
      ],
      "metadata": {
        "colab": {
          "base_uri": "https://localhost:8080/"
        },
        "id": "plPLrJqKrw_o",
        "outputId": "1cb3fb13-f7b6-4e7e-9e31-148bca17828f"
      },
      "execution_count": 18,
      "outputs": [
        {
          "output_type": "stream",
          "name": "stdout",
          "text": [
            "['Кто', 'сражается', 'с', 'чудовищами', ',', 'тому', 'следует', 'остерегаться', ',', 'чтобы', 'самому', 'при', 'этом', 'не', 'стать', 'чудовищем', '.', 'И', 'если', 'ты', 'долго', 'смотришь', 'в', 'бездну', ',', 'то', 'бездна', 'тоже', 'смотрит', 'в', 'тебя', '.']\n"
          ]
        }
      ]
    },
    {
      "cell_type": "code",
      "source": [],
      "metadata": {
        "id": "Uxc9D1yewWlx"
      },
      "execution_count": null,
      "outputs": []
    }
  ]
}