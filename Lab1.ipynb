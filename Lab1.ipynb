{
  "nbformat": 4,
  "nbformat_minor": 0,
  "metadata": {
    "colab": {
      "provenance": [],
      "authorship_tag": "ABX9TyPs1MGe62MaEISfKElf2nUc"
    },
    "kernelspec": {
      "name": "python3",
      "display_name": "Python 3"
    },
    "language_info": {
      "name": "python"
    }
  },
  "cells": [
    {
      "cell_type": "code",
      "execution_count": null,
      "metadata": {
        "colab": {
          "base_uri": "https://localhost:8080/"
        },
        "id": "w_KKlw0Z5W8H",
        "outputId": "ad9d2d09-74be-44f8-cfa0-145117eead4a"
      },
      "outputs": [
        {
          "output_type": "stream",
          "name": "stdout",
          "text": [
            "// Инициализируем локальную переменную\n",
            "// Чиселка\n",
            "/* Здесь\n",
            "инициализируется\n",
            "float переменная */\n"
          ]
        }
      ],
      "source": [
        "import re\n",
        "\n",
        "code = \"\"\"\n",
        "// Инициализируем локальную переменную\n",
        "int x = 10; // Чиселка\n",
        "/* Здесь\n",
        "инициализируется\n",
        "float переменная */\n",
        "float y = 20.5;\n",
        "\"\"\"\n",
        "\n",
        "pattern = r\"(\\/\\/[^\\n]*|\\/\\*[\\s\\S]*?\\*\\/)\"\n",
        "comments = re.findall(pattern, code)\n",
        "\n",
        "for comment in comments:\n",
        "    print(comment)"
      ]
    },
    {
      "cell_type": "code",
      "source": [],
      "metadata": {
        "id": "wLKR7muR6Bgt"
      },
      "execution_count": null,
      "outputs": []
    }
  ]
}