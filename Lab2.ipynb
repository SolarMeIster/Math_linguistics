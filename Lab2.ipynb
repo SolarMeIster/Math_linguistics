{
  "nbformat": 4,
  "nbformat_minor": 0,
  "metadata": {
    "colab": {
      "provenance": [],
      "authorship_tag": "ABX9TyM4ONhkGmI5Xk/f3BszwkvC",
      "include_colab_link": true
    },
    "kernelspec": {
      "name": "python3",
      "display_name": "Python 3"
    },
    "language_info": {
      "name": "python"
    }
  },
  "cells": [
    {
      "cell_type": "markdown",
      "metadata": {
        "id": "view-in-github",
        "colab_type": "text"
      },
      "source": [
        "<a href=\"https://colab.research.google.com/github/SolarMeIster/Math_linguistics/blob/main/Lab2.ipynb\" target=\"_parent\"><img src=\"https://colab.research.google.com/assets/colab-badge.svg\" alt=\"Open In Colab\"/></a>"
      ]
    },
    {
      "cell_type": "markdown",
      "source": [
        "## Задание 1"
      ],
      "metadata": {
        "id": "P_RIJE5FJ7Mo"
      }
    },
    {
      "cell_type": "code",
      "execution_count": 1,
      "metadata": {
        "colab": {
          "base_uri": "https://localhost:8080/"
        },
        "id": "AmUNi_PgqVP2",
        "outputId": "b5e93eb9-60ab-4981-9c85-ebb734916bba"
      },
      "outputs": [
        {
          "output_type": "stream",
          "name": "stdout",
          "text": [
            "(x+x)*x\n"
          ]
        }
      ],
      "source": [
        "import re\n",
        "\n",
        "expression = \"(2+3)*4\"\n",
        "result = re.sub(r'\\d+', 'x', expression)\n",
        "print(result)"
      ]
    },
    {
      "cell_type": "code",
      "source": [
        "expression = \"2.5+4\"\n",
        "# expression = \"2+(2+3)\"\n"
      ],
      "metadata": {
        "id": "HrJs33SIQlE9"
      },
      "execution_count": null,
      "outputs": []
    },
    {
      "cell_type": "markdown",
      "source": [
        "## Задание 2 и 3"
      ],
      "metadata": {
        "id": "MmK4A6nSKCW1"
      }
    },
    {
      "cell_type": "code",
      "source": [
        "import re\n",
        "from collections import defaultdict\n",
        "\n",
        "expression = \"2.5+4\"  # задание 2\n",
        "# expression = \"2+(2+3)\" # задание 3\n",
        "\n",
        "number_to_letter = defaultdict(lambda: chr(ord('a') + len(number_to_letter)))\n",
        "\n",
        "def replace_with_unique_letter(match):\n",
        "    number = match.group()\n",
        "    return number_to_letter[number]\n",
        "\n",
        "result = re.sub(r'\\d+\\.?\\d*', replace_with_unique_letter, expression)\n",
        "print(result)"
      ],
      "metadata": {
        "colab": {
          "base_uri": "https://localhost:8080/"
        },
        "id": "FsyOLZoMqecg",
        "outputId": "055cb884-e656-4f23-b563-99e01f698e46"
      },
      "execution_count": 27,
      "outputs": [
        {
          "output_type": "stream",
          "name": "stdout",
          "text": [
            "a+b\n"
          ]
        }
      ]
    },
    {
      "cell_type": "markdown",
      "source": [
        "## Задание 4"
      ],
      "metadata": {
        "id": "kihMFI2eKomE"
      }
    },
    {
      "cell_type": "code",
      "source": [
        "import re\n",
        "from collections import defaultdict\n",
        "\n",
        "expression = \"2(3+4)\"\n",
        "\n",
        "number_to_letter = defaultdict(lambda: chr(ord('a') + len(number_to_letter)))\n",
        "\n",
        "def replace_with_letter(match):\n",
        "    number = match.group()\n",
        "    return number_to_letter[number]\n",
        "\n",
        "result = re.sub(r'(?<!\\d)(\\d+)(?![\\d(])',replace_with_letter, expression)\n",
        "\n",
        "print(result)"
      ],
      "metadata": {
        "colab": {
          "base_uri": "https://localhost:8080/"
        },
        "id": "uk53ZgL03X4J",
        "outputId": "660b003a-f338-49b5-d15f-8ca0970eb8ba"
      },
      "execution_count": 30,
      "outputs": [
        {
          "output_type": "stream",
          "name": "stdout",
          "text": [
            "2(a+b)\n"
          ]
        }
      ]
    },
    {
      "cell_type": "markdown",
      "source": [
        "## Задание 5 и 6"
      ],
      "metadata": {
        "id": "2iVhPDEcPlfO"
      }
    },
    {
      "cell_type": "code",
      "source": [
        "import re\n",
        "from collections import defaultdict\n",
        "\n",
        "expression = \"2*13+7*56\"\n",
        "\n",
        "number_to_letter = defaultdict(lambda: chr(ord('a') + len(number_to_letter)))\n",
        "\n",
        "def replace_with_letter(match):\n",
        "    number = match.group()\n",
        "    return number_to_letter[number]\n",
        "\n",
        "pattern = re.compile(r'\\b\\d{2,}\\b') # задание 5\n",
        "# pattern = re.compile(r'\\b\\*\\d+\\b') # задание 6\n",
        "\n",
        "result = pattern.sub(replace_with_letter, expression)\n",
        "\n",
        "print(result)"
      ],
      "metadata": {
        "colab": {
          "base_uri": "https://localhost:8080/"
        },
        "id": "XITU8nBIMRGp",
        "outputId": "646c36f5-df45-44c4-ca5e-f6fedfc66c28"
      },
      "execution_count": 31,
      "outputs": [
        {
          "output_type": "stream",
          "name": "stdout",
          "text": [
            "2*a+7*b\n"
          ]
        }
      ]
    },
    {
      "cell_type": "markdown",
      "source": [
        "## Задание 6"
      ],
      "metadata": {
        "id": "s7zQr43ySL9p"
      }
    },
    {
      "cell_type": "code",
      "source": [
        "import re\n",
        "\n",
        "def infix_to_postfix(expression):\n",
        "    precedence = {'+': 1, '-': 1, '*': 2, '/': 2, '^': 3}\n",
        "    stack = []\n",
        "    output = []\n",
        "\n",
        "    tokens = re.findall(r'\\d+|\\+|\\-|\\*|\\/|\\(|\\)', expression)\n",
        "\n",
        "    for token in tokens:\n",
        "        if token.isdigit():\n",
        "            output.append(token)\n",
        "        elif token in precedence:\n",
        "            while (stack and stack[-1] in precedence and\n",
        "                   precedence[stack[-1]] >= precedence[token]):\n",
        "                output.append(stack.pop())\n",
        "            stack.append(token)\n",
        "        elif token == '(':\n",
        "            stack.append(token)\n",
        "        elif token == ')':\n",
        "            while stack and stack[-1] != '(':\n",
        "                output.append(stack.pop())\n",
        "            stack.pop()\n",
        "\n",
        "    while stack:\n",
        "        output.append(stack.pop())\n",
        "\n",
        "    return output"
      ],
      "metadata": {
        "id": "rTkBLbU-SjL9"
      },
      "execution_count": 33,
      "outputs": []
    },
    {
      "cell_type": "code",
      "source": [
        "from collections import defaultdict\n",
        "\n",
        "def replace_numbers_with_letters(postfix):\n",
        "    number_to_letter = defaultdict(lambda: chr(ord('a') + len(number_to_letter)))\n",
        "    result = []\n",
        "\n",
        "    for token in postfix:\n",
        "        if token.isdigit():\n",
        "            result.append(number_to_letter[token])\n",
        "        else:\n",
        "            result.append(token)\n",
        "\n",
        "    return ''.join(result)"
      ],
      "metadata": {
        "id": "rBMfpr3xSojL"
      },
      "execution_count": 34,
      "outputs": []
    },
    {
      "cell_type": "code",
      "source": [
        "expression = \"2*3+1\"\n",
        "postfix = infix_to_postfix(expression)\n",
        "result = replace_numbers_with_letters(postfix)\n",
        "\n",
        "print(result)"
      ],
      "metadata": {
        "colab": {
          "base_uri": "https://localhost:8080/"
        },
        "id": "5dleXp-_PwjA",
        "outputId": "8889a8b0-40be-4934-ad96-818ad9078e6b"
      },
      "execution_count": 35,
      "outputs": [
        {
          "output_type": "stream",
          "name": "stdout",
          "text": [
            "ab*c+\n"
          ]
        }
      ]
    },
    {
      "cell_type": "code",
      "source": [],
      "metadata": {
        "id": "eXNYlWIfSPjV"
      },
      "execution_count": null,
      "outputs": []
    }
  ]
}